{
 "cells": [
  {
   "cell_type": "code",
   "execution_count": null,
   "id": "5f6d0443",
   "metadata": {},
   "outputs": [],
   "source": [
    "# Examples of Singularities\n",
    "# 2/17/23\n",
    "# \n",
    "#\n",
    "# 2.4.1: Removable\n",
    "# 2.4.2: Poles\n",
    "# 2.4.3: Essential\n",
    "# 2.4.4: Branch points\n",
    "#"
   ]
  },
  {
   "cell_type": "code",
   "execution_count": null,
   "id": "45be4a7a",
   "metadata": {},
   "outputs": [],
   "source": [
    "import numpy as np\n",
    "import sys\n",
    "# Check directory name; may not need\n",
    "sys.path.append('dcolor-master')\n",
    "import dcolor\n",
    "dc = dcolor.DColor(xmin=-4,xmax=4,ymin=-2,ymax=2)\n",
    "\n",
    "# Different color schemes\n",
    "# \n",
    "# Use the optional argument cscheme (see example in the next block)\n",
    "\"\"\"\n",
    "'h':  A. Hernandez's scheme (makes everything look like trippy glazed donuts)\n",
    "'p': plain phase plot\n",
    "'m': phase + modulus \n",
    "'c': phase+conformal grid \n",
    "'d': Standard domain coloring \n",
    "'e': enhanced domain coloring \n",
    " \"\"\""
   ]
  },
  {
   "cell_type": "code",
   "execution_count": null,
   "id": "f1daf800",
   "metadata": {},
   "outputs": [],
   "source": [
    "# A removable \"singularity\"\n",
    "#\n",
    "# See Chap. 2.4.1\n",
    "dc.plot(lambda z : np.sin(z)/z,title='sin z/z',grid=True,cscheme='e')\n"
   ]
  },
  {
   "cell_type": "code",
   "execution_count": null,
   "id": "d366ede9",
   "metadata": {},
   "outputs": [],
   "source": [
    "# A pole\n",
    "#\n",
    "# See Chap. 2.4.2\n",
    "dc.plot(lambda z : z**2/(z-2)**2,grid=True,cscheme='e')"
   ]
  },
  {
   "cell_type": "code",
   "execution_count": null,
   "id": "3a22dbc1",
   "metadata": {},
   "outputs": [],
   "source": [
    "# A function with THREE poles\n",
    "#\n",
    "# See Chap. 2.4.2\n",
    "dc.plot(lambda z : z**2/(z-2)**3/(z**2+1),grid=True,cscheme='p')"
   ]
  },
  {
   "cell_type": "code",
   "execution_count": null,
   "id": "2f6b9c7d",
   "metadata": {},
   "outputs": [],
   "source": [
    "# A function with an essential singularity\n",
    "#\n",
    "# See Chap. 2.4.3\n",
    "dc2 = dcolor.DColor(xmin=-0.5,xmax=0.5,ymin=-0.5,ymax=0.5)\n",
    "dc2.plot(lambda z : np.exp(1/z),grid=True,cscheme='e')"
   ]
  },
  {
   "cell_type": "code",
   "execution_count": null,
   "id": "15eb80dc",
   "metadata": {},
   "outputs": [],
   "source": [
    "# By truncating the infinite series that defines exp(1/z) \n",
    "#  we can see how the behavior arises \n",
    "\n",
    "def EssSingTrunc( z,k ):\n",
    "    # EssSingTrunc: visualize what happens near an essential singularity\n",
    "    #\n",
    "    #   exp(1/z), truncated at order k\n",
    "    #  \n",
    "\n",
    "    # If necessary...\n",
    "    k = np.round(k);\n",
    "\n",
    "    w = 1;\n",
    "\n",
    "    for k1 in np.arange(k):\n",
    "        w = w + 1/z**(k1+1)/np.math.factorial((k1+1))\n",
    "    return w\n"
   ]
  },
  {
   "cell_type": "code",
   "execution_count": null,
   "id": "6a4a1961",
   "metadata": {},
   "outputs": [],
   "source": [
    "dc2.plot(lambda z : EssSingTrunc(z,5),title='k=5',grid=True,cscheme='e')\n",
    "dc2.plot(lambda z : EssSingTrunc(z,10),title='k=10',grid=True,cscheme='e')\n",
    "dc2.plot(lambda z : EssSingTrunc(z,20),title='k=20',grid=True,cscheme='e')"
   ]
  },
  {
   "cell_type": "code",
   "execution_count": null,
   "id": "2920fe0b",
   "metadata": {},
   "outputs": [],
   "source": [
    "# Finally, multi-valued functions have branch points\n",
    "# See Chap. 2.4.4"
   ]
  },
  {
   "cell_type": "code",
   "execution_count": null,
   "id": "41141a0b",
   "metadata": {},
   "outputs": [],
   "source": [
    "dc.plot(lambda z : np.log(z),grid=True,cscheme='e')"
   ]
  },
  {
   "cell_type": "code",
   "execution_count": null,
   "id": "1b935481",
   "metadata": {},
   "outputs": [],
   "source": [
    "# In order to force a specific branch, you need to be \n",
    "# intentional about how the argument gets evaluated\n",
    "\n",
    "def myLog(z,tau):\n",
    "    # Force the argument to be in between (tau, tau+2\\pi]\n",
    "    \n",
    "    Rw = np.log(np.abs(z))\n",
    "    \n",
    "    Iw = np.angle(z)\n",
    "    \n",
    "    while (Iw <= tau).any():\n",
    "        Iw = (Iw>tau)*Iw + (Iw<=tau)*(Iw + 2*np.pi)\n",
    "        \n",
    "    while (Iw > tau+2*np.pi).any():\n",
    "        Iw = (Iw<= tau+2*np.pi)*Iw + (Iw>tau+2*np.pi)*(Iw-2*np.pi)\n",
    "\n",
    "    return Rw + 1j*Iw\n"
   ]
  },
  {
   "cell_type": "code",
   "execution_count": null,
   "id": "5f08e657",
   "metadata": {},
   "outputs": [],
   "source": [
    "dc.plot(lambda z: myLog(z,0),cscheme='e',grid=True)"
   ]
  },
  {
   "cell_type": "code",
   "execution_count": null,
   "id": "9cfc5571",
   "metadata": {},
   "outputs": [],
   "source": [
    "# Here is another nice example of a function with branch points\n",
    "dc2 = dcolor.DColor(xmin=-3,xmax=3,ymin=-2,ymax=2)\n",
    "dc2.plot(lambda z: np.arcsin(z),cscheme='e',grid=True)"
   ]
  },
  {
   "cell_type": "code",
   "execution_count": null,
   "id": "186030cb",
   "metadata": {},
   "outputs": [],
   "source": [
    "np.sqrt(3)"
   ]
  },
  {
   "cell_type": "code",
   "execution_count": null,
   "id": "7d1d4447",
   "metadata": {},
   "outputs": [],
   "source": [
    "# 2/20/2023\n",
    "# Now we try to explore different branches of (z-1)^(1/2)*(z+1)^(1/2)\n",
    "#\n",
    "def sqrtBranch(z,tau,sgnB):\n",
    "    # Pick a branch of the square root function.\n",
    "    # Choose location of branch by choosing (1) the argument where a discontinuity will\n",
    "    # be used and (2) whether the +/- branch [0/1]\n",
    "    Rw = np.sqrt(np.abs(z))\n",
    "    \n",
    "    Iw = np.angle(z)\n",
    "    \n",
    "    while (Iw <= tau).any():\n",
    "        Iw = (Iw>tau)*Iw + (Iw<=tau)*(Iw + 2*np.pi)\n",
    "        \n",
    "    while (Iw > tau+2*np.pi).any():\n",
    "        Iw = (Iw<= tau+2*np.pi)*Iw + (Iw>tau+2*np.pi)*(Iw-2*np.pi)\n",
    "  \n",
    "    Iw = Iw/2\n",
    "    \n",
    "    myAns = Rw*np.exp(1j*Iw)\n",
    "    \n",
    "    if (sgnB == 1):\n",
    "        myAns=myAns*(-1)\n",
    "        \n",
    "    return myAns\n",
    "    \n"
   ]
  },
  {
   "cell_type": "code",
   "execution_count": null,
   "id": "3f544cf4",
   "metadata": {},
   "outputs": [],
   "source": [
    "dc2.plot(lambda z: sqrtBranch(z-1,0,0),cscheme='e',grid=True)"
   ]
  },
  {
   "cell_type": "code",
   "execution_count": null,
   "id": "f3f960b2",
   "metadata": {},
   "outputs": [],
   "source": [
    "dc2.plot(lambda z: sqrtBranch(z+1,0,1),cscheme='e',grid=True)"
   ]
  },
  {
   "cell_type": "code",
   "execution_count": null,
   "id": "c0a407e6",
   "metadata": {},
   "outputs": [],
   "source": [
    "# This has a \"cut\" along [-1,1]\n",
    "dc2.plot(lambda z: sqrtBranch(z-1,0,0)*sqrtBranch(z+1,0,1),cscheme='e',grid=True)"
   ]
  },
  {
   "cell_type": "code",
   "execution_count": null,
   "id": "4750764c",
   "metadata": {},
   "outputs": [],
   "source": [
    "# This has a cut that goes through infinity\n",
    "dc2.plot(lambda z: sqrtBranch(z-1,0,0)*sqrtBranch(z+1,np.pi,1),cscheme='e',grid=True)"
   ]
  },
  {
   "cell_type": "code",
   "execution_count": null,
   "id": "274a716e",
   "metadata": {},
   "outputs": [],
   "source": [
    "dc2.plot(lambda z: np.sqrt(z**3+1),cscheme='e',grid=True)"
   ]
  }
 ],
 "metadata": {
  "kernelspec": {
   "display_name": "Python 3 (ipykernel)",
   "language": "python",
   "name": "python3"
  },
  "language_info": {
   "codemirror_mode": {
    "name": "ipython",
    "version": 3
   },
   "file_extension": ".py",
   "mimetype": "text/x-python",
   "name": "python",
   "nbconvert_exporter": "python",
   "pygments_lexer": "ipython3",
   "version": "3.10.8"
  }
 },
 "nbformat": 4,
 "nbformat_minor": 5
}
