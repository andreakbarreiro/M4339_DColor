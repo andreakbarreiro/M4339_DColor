{
 "cells": [
  {
   "cell_type": "code",
   "execution_count": null,
   "id": "5f6d0443",
   "metadata": {},
   "outputs": [],
   "source": [
    "# Pade Approximants!\n",
    "#\n",
    "# 3/1/23\n",
    "# \n",
    "# See 3.2.9\n",
    "#\n",
    "# Also one takeaway from this script is examples for how to define\n",
    "#  a truncated series in an appropriate way to use with dcolor\n",
    "#"
   ]
  },
  {
   "cell_type": "code",
   "execution_count": null,
   "id": "45be4a7a",
   "metadata": {},
   "outputs": [],
   "source": [
    "import numpy as np\n",
    "import sys\n",
    "# Check directory name; may not need\n",
    "sys.path.append('dcolor-master')\n",
    "import dcolor\n",
    "dc = dcolor.DColor(xmin=-2,xmax=2,ymin=-2,ymax=2)\n",
    "\n",
    "# Different color schemes\n",
    "# \n",
    "# Use the optional argument cscheme (see example in the next block)\n",
    "\"\"\"\n",
    "'h':  A. Hernandez's scheme (makes everything look like trippy glazed donuts)\n",
    "'p': plain phase plot\n",
    "'m': phase + modulus \n",
    "'c': phase+conformal grid \n",
    "'d': Standard domain coloring \n",
    "'e': enhanced domain coloring \n",
    " \"\"\""
   ]
  },
  {
   "cell_type": "code",
   "execution_count": null,
   "id": "f1daf800",
   "metadata": {},
   "outputs": [],
   "source": [
    "# As our \"base\" function consider log(1+z)/z\n",
    "# \n",
    "dc.plot(lambda z : np.log(1+z)/z,title='log(1+z)/z',grid=True,cscheme='e')\n"
   ]
  },
  {
   "cell_type": "code",
   "execution_count": null,
   "id": "fa72f951",
   "metadata": {},
   "outputs": [],
   "source": [
    "# Let's define a function to capture the Taylor series for the function about z=0\n",
    "#  \n",
    "\n",
    "def myLog1pzdzTrunc( z,k ):\n",
    "\n",
    "    # myLog1pzdz: visualize what happens near an essential singularity\n",
    "    #   log(1+z)/z, truncated at order k\n",
    "    #  \n",
    "\n",
    "    # If necessary...\n",
    "\n",
    "    k = np.round(k);\n",
    "\n",
    "    w = 1;\n",
    "\n",
    "    for k1 in np.arange(k):\n",
    "        w = w + (-z)**(k1+1)/(k1+2)\n",
    "\n",
    "    return w\n"
   ]
  },
  {
   "cell_type": "code",
   "execution_count": null,
   "id": "d366ede9",
   "metadata": {},
   "outputs": [],
   "source": [
    "# Truncate to some order  \n",
    "# \n",
    "# Note that this converges rather slowly...I need k=20 for it to look\n",
    "#   similar to the picture above!!\n",
    "#\n",
    "dc.plot(lambda z : myLog1pzdzTrunc( z,20),grid=True,cscheme='e')"
   ]
  },
  {
   "cell_type": "code",
   "execution_count": null,
   "id": "3a22dbc1",
   "metadata": {},
   "outputs": [],
   "source": [
    "# Some examples from class.\n",
    "#\n",
    "# M=2, N=3: we computed \n",
    "#  (b0, b1, b2) = (1, 4/3, 2/5)\n",
    "#  (a0, a1, a2, a3) = (1, 5/6, 1/15, -1/180)\n",
    "\n",
    "def myLogPadeM2N3(z):\n",
    "    w = (1 + (5./6.)*z + (1/15.)*z**2 - z**3/180.)/(1+(4./3.)*z+(2./5.)*z**2)\n",
    "\n",
    "    return w\n",
    "\n",
    "dc.plot(lambda z : myLogPadeM2N3(z),grid=True,cscheme='e')"
   ]
  },
  {
   "cell_type": "code",
   "execution_count": null,
   "id": "5591d462",
   "metadata": {},
   "outputs": [],
   "source": [
    "# Truncate to some order  \n",
    "# \n",
    "# Contrast this with M+N=5\n",
    "#\n",
    "dc.plot(lambda z : myLog1pzdzTrunc( z,5),grid=True,cscheme='e')"
   ]
  },
  {
   "cell_type": "code",
   "execution_count": null,
   "id": "385e49e5",
   "metadata": {},
   "outputs": [],
   "source": [
    "# Some examples from class.\n",
    "#\n",
    "# M=2, N=2: we computed \n",
    "#  (b0, b1, b2) = (1, 6/5, 3/10)\n",
    "#  (a0, a1, a2, a3) = (1, 7/10, 1/30)\n",
    "\n",
    "def myLogPadeM2N2(z):\n",
    "    w = (1 + (7./10.)*z + z**2/30.)/(1+(6./5.)*z+(3./10.)*z**2)\n",
    "\n",
    "    return w\n",
    "\n",
    "dc.plot(lambda z : myLogPadeM2N2(z),grid=True,cscheme='e')"
   ]
  },
  {
   "cell_type": "code",
   "execution_count": null,
   "id": "86b61a2b",
   "metadata": {},
   "outputs": [],
   "source": [
    "#  What is the function value at z=2?\n",
    "#\n",
    "# Remember:  Taylor series does NOT converge here!\n",
    "\n",
    "print(np.log(1+2)/2)\n",
    "print(myLog1pzdzTrunc( 2,5))\n",
    "print(myLog1pzdzTrunc( 2,10))\n",
    "print(myLog1pzdzTrunc( 2,20))"
   ]
  },
  {
   "cell_type": "code",
   "execution_count": null,
   "id": "99aada26",
   "metadata": {},
   "outputs": [],
   "source": [
    "# In contrast, the Pade approximations do a pretty good job\n",
    "print(np.log(1+2)/2)\n",
    "print(myLogPadeM2N2(2))\n",
    "print(myLogPadeM2N3(2))"
   ]
  },
  {
   "cell_type": "code",
   "execution_count": null,
   "id": "f13a9a17",
   "metadata": {},
   "outputs": [],
   "source": [
    "# As you can see from class, computing coefficients is basically a \n",
    "#  LINEAR ALGEBRA problem!! \n",
    "#\n",
    "# Here is a simple routine implemented to do the job (must install scipy)\n",
    "\n",
    "from scipy.interpolate import pade\n",
    "\n",
    "mycoeffs = np.zeros(6)\n",
    "for k1 in np.arange(6):\n",
    "    mycoeffs[k1] = (-1)**(k1)/(k1+1)"
   ]
  },
  {
   "cell_type": "code",
   "execution_count": null,
   "id": "c7fd2b38",
   "metadata": {},
   "outputs": [],
   "source": [
    "mycoeffs"
   ]
  },
  {
   "cell_type": "code",
   "execution_count": null,
   "id": "4cad1694",
   "metadata": {},
   "outputs": [],
   "source": [
    "\"\"\"\n",
    "def pade(an, m, n=None):\n",
    "\n",
    "    Return Pade approximation to a polynomial as the ratio of two polynomials.\n",
    "    Parameters\n",
    "    ----------\n",
    "    an : (N,) array_like\n",
    "        Taylor series coefficients.\n",
    "    m : int\n",
    "        The order of the returned approximating polynomial `q`.\n",
    "    n : int, optional\n",
    "        The order of the returned approximating polynomial `p`. By default,\n",
    "        the order is ``len(an)-1-m``.\n",
    "    Returns\n",
    "    -------\n",
    "    p, q : Polynomial class\n",
    "        The Pade approximation of the polynomial defined by `an` is\n",
    "        ``p(x)/q(x)``.\n",
    "\"\"\"\n",
    "\n",
    "polyN, polyM = pade(mycoeffs,2,3) "
   ]
  },
  {
   "cell_type": "code",
   "execution_count": null,
   "id": "c3afce2b",
   "metadata": {},
   "outputs": [],
   "source": [
    "# This returns a polynomial object which can be evaluated like a function\n",
    "polyN\n"
   ]
  },
  {
   "cell_type": "code",
   "execution_count": null,
   "id": "aa788f81",
   "metadata": {},
   "outputs": [],
   "source": [
    "polyN(2)"
   ]
  },
  {
   "cell_type": "code",
   "execution_count": null,
   "id": "9cf897c2",
   "metadata": {},
   "outputs": [],
   "source": [
    "def myLogPadeMN(z,M,N):\n",
    "    # First get coefficients\n",
    "    K = M+N\n",
    "    mycoeffs = np.zeros(K+1)\n",
    "    for k1 in np.arange(K+1):\n",
    "        mycoeffs[k1] = (-1)**(k1)/(k1+1)\n",
    "    \n",
    "    # Use Pade function\n",
    "    polyN, polyM = pade(mycoeffs,M,N) \n",
    "    \n",
    "    #\n",
    "    w = polyN(z)/polyM(z)\n",
    "\n",
    "    return w"
   ]
  },
  {
   "cell_type": "code",
   "execution_count": null,
   "id": "1ebf58e3",
   "metadata": {},
   "outputs": [],
   "source": [
    "# This is a much more general way to explore this!\n",
    "#  (than computing coefficients by hand)\n",
    "dc.plot(lambda z : myLogPadeMN(z,2,2),grid=True,cscheme='e')"
   ]
  },
  {
   "cell_type": "code",
   "execution_count": null,
   "id": "61e30e1e",
   "metadata": {},
   "outputs": [],
   "source": [
    "# I did not assign this but it is a pretty cool problem\n",
    "# Exercise 3.3.2\n",
    "#\n",
    "dc.plot(lambda z : np.arctan(z),grid=True,cscheme='e')"
   ]
  },
  {
   "cell_type": "code",
   "execution_count": null,
   "id": "acdb7fb9",
   "metadata": {},
   "outputs": [],
   "source": [
    "# Taylor series about 0\n",
    "def myAtan1(z,k):\n",
    "    w = z\n",
    "    for j in np.arange(k):   \n",
    "        j1 = 2*(j+1)+1\n",
    "        w = w + (-1)**j*(z)**(j1)/(j1)\n",
    "        \n",
    "    return w"
   ]
  },
  {
   "cell_type": "code",
   "execution_count": null,
   "id": "11dfc6bc",
   "metadata": {},
   "outputs": [],
   "source": [
    "# \n",
    "dc.plot(lambda z : myAtan1(z,10),grid=True,cscheme='e')"
   ]
  },
  {
   "cell_type": "code",
   "execution_count": null,
   "id": "e0502684",
   "metadata": {},
   "outputs": [],
   "source": [
    "# Series (3.18)\n",
    "def myAtan2(z,k):\n",
    "    zrat = z**2/(1+z**2)\n",
    "    \n",
    "    w = 1\n",
    "    \n",
    "    # Keep augmenting next coefficient\n",
    "    coeff = 1\n",
    "    for j in np.arange(k):   \n",
    "        j1 = 2*(j+1)        \n",
    "        coeff = coeff*j1/(j1+1) \n",
    "        \n",
    "        w = w + coeff*(zrat)**j\n",
    "      \n",
    "    w = w*z/(1+z**2)\n",
    "    \n",
    "    return w"
   ]
  },
  {
   "cell_type": "code",
   "execution_count": null,
   "id": "a6ec45de",
   "metadata": {},
   "outputs": [],
   "source": [
    "dc.plot(lambda z : myAtan2(z,50),grid=True,cscheme='e')"
   ]
  }
 ],
 "metadata": {
  "kernelspec": {
   "display_name": "Python 3 (ipykernel)",
   "language": "python",
   "name": "python3"
  },
  "language_info": {
   "codemirror_mode": {
    "name": "ipython",
    "version": 3
   },
   "file_extension": ".py",
   "mimetype": "text/x-python",
   "name": "python",
   "nbconvert_exporter": "python",
   "pygments_lexer": "ipython3",
   "version": "3.10.8"
  }
 },
 "nbformat": 4,
 "nbformat_minor": 5
}
